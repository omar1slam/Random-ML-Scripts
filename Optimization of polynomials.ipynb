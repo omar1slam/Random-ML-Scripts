{
  "nbformat": 4,
  "nbformat_minor": 0,
  "metadata": {
    "colab": {
      "name": "OmarIslam_CI_Project01_Q2.ipynb",
      "provenance": [],
      "collapsed_sections": [],
      "include_colab_link": true
    },
    "kernelspec": {
      "name": "python3",
      "display_name": "Python 3"
    }
  },
  "cells": [
    {
      "cell_type": "markdown",
      "metadata": {
        "id": "view-in-github",
        "colab_type": "text"
      },
      "source": [
        "<a href=\"https://colab.research.google.com/github/omar1slam/Random-ML-Scripts/blob/master/Optimization%20of%20polynomials.ipynb\" target=\"_parent\"><img src=\"https://colab.research.google.com/assets/colab-badge.svg\" alt=\"Open In Colab\"/></a>"
      ]
    },
    {
      "cell_type": "code",
      "metadata": {
        "id": "D85hjOrxO7m-",
        "outputId": "f33b2af0-1121-4201-b585-3bda94b607ab",
        "colab": {
          "base_uri": "https://localhost:8080/",
          "height": 338
        }
      },
      "source": [
        "import math as m\n",
        "import numpy as np\n",
        "import matplotlib.pyplot as plt\n",
        "from scipy.optimize import minimize\n",
        "#//////////////////////////////////////////////////Conventional Gradient Descent/////////////////////////////////////////////////////////\n",
        "X0 = np.array([0.5,-0.5,0.5])\n",
        "Xnew = np.array([0,0,0])\n",
        "eeta = 0.001\n",
        "Epsilon = 1e-06\n",
        "i = 0\n",
        "\n",
        "def g1(x1,x2,x3):\n",
        "  y= 3*x1-m.cos(x2*x3)-0.5\n",
        "  return y\n",
        "def g2(x1,x2,x3):\n",
        "  y= x1**2-81*(x2+0.1)**2+m.sin(x3)+1.06\n",
        "  return y\n",
        "def g3(x1,x2,x3):\n",
        "  return m.exp(-x1*x2)+20*x3+(10*m.pi-3)/3\n",
        "\n",
        "def F(x1,x2,x3):\n",
        "  return 0.5*(g1(x1,x2,x3))**2 + 0.5*(g2(x1,x2,x3))**2 + 0.5*(g3(x1,x2,x3))**2\n",
        "\n",
        "gradient = np.array([1,2,3])\n",
        "def F1(x1,x2,x3):\n",
        "  return (g1(x1,x2,x3))*3 +(g2(x1,x2,x3))*2*x1+(g3(x1,x2,x3))*m.exp(-x1*x2)*-x2\n",
        "def F2(x1,x2,x3):\n",
        "  return (g1(x1,x2,x3))*m.sin(x2*x3)*x3 + (g2(x1,x2,x3))*(-162*(x2+0.1))+(g3(x1,x2,x3))*m.exp(-x1*x2)*-x1\n",
        "def F3(x1,x2,x3):\n",
        "  return (g1(x1,x2,x3))*m.sin(x2*x3)*x2 + (g2(x1,x2,x3))*m.cos(x3)+ 20*(g3(x1,x2,x3))\n",
        "\n",
        "gradient[0] = F1(X0[0],X0[1],X0[2])\n",
        "gradient[1] = F2(X0[0],X0[1],X0[2])\n",
        "gradient[2] = F3(X0[0],X0[1],X0[2])\n",
        "\n",
        "def Gradient_Magnitude():\n",
        "  return m.sqrt((gradient[0])**2+(gradient[1])**2+(gradient[2])**2)\n",
        "\n",
        "while Gradient_Magnitude() > Epsilon:\n",
        "  Xnew = X0 - eeta*gradient\n",
        "  X0 = Xnew\n",
        "  i = i+1\n",
        "  gradient[0] = F1(X0[0],X0[1],X0[2])\n",
        "  gradient[1] = F2(X0[0],X0[1],X0[2])\n",
        "  gradient[2] = F3(X0[0],X0[1],X0[2])\n",
        "  plt.figure(1)\n",
        "  plt.plot(i,Gradient_Magnitude(),'bo')\n",
        "  plt.grid(True)\n",
        "\n",
        "print(\"minimum point:\",Xnew)\n",
        "print(\"local minmum of F(x1,x2,x3)\")\n",
        "print(F(Xnew[0],Xnew[1],Xnew[2]))\n",
        "print(\"Number of iterations:\",i)\n"
      ],
      "execution_count": null,
      "outputs": [
        {
          "output_type": "stream",
          "text": [
            "minimum point: [ 0.505 -0.197 -0.527]\n",
            "local minmum of F(x1,x2,x3)\n",
            "0.0021243831651996475\n",
            "Number of iterations: 14\n"
          ],
          "name": "stdout"
        },
        {
          "output_type": "display_data",
          "data": {
            "image/png": "[encoded data removed]",
            "text/plain": [
              "<Figure size 432x288 with 1 Axes>"
            ]
          },
          "metadata": {
            "tags": []
          }
        }
      ]
    },
    {
      "cell_type": "code",
      "metadata": {
        "id": "Qq8l4g-iaoX-",
        "outputId": "135d3d09-1286-41fb-c569-1afd1296e346",
        "colab": {
          "base_uri": "https://localhost:8080/",
          "height": 340
        }
      },
      "source": [
        "#/////////////////////////////////////////////////////Newton-Raphson Gradient Descent///////////////////////////////////////////////\n",
        "def F11(x1,x2,x3):\n",
        "  return 9 + 2*(g2(x1,x2,x3))+4*x1**2 + (g3(x1,x2,x3))*(x2**2)*m.exp(-x1*x2)+(x2**2)*m.exp(-2*x1*x2)\n",
        "def F12(x1,x2,x3):\n",
        "  return 3*x3*m.sin(x2*x3) + 2*x1*(-162*(x2+0.1)) - (g3(x1,x2,x3))*m.exp(-x1*x2) + (g3(x1,x2,x3))*x1*x2*m.exp(-x1*x2) + x1*x2*m.exp(-2*x1*x2)\n",
        "def F13(x1,x2,x3):\n",
        "  return 3*x2*m.sin(x2*x3)+2*x1*m.cos(x3) - 20*x2*m.exp(-x1*x2)\n",
        "def F21(x1,x2,x3):\n",
        "  return 3*x3*m.sin(x2*x3) + (-162*(x2+0.1))*2*x1 + m.exp(-2*x1*x2)*(x1*x2) + (g3(x1,x2,x3))*x1*x2*m.exp(-x1*x2)-(g3(x1,x2,x3))*m.exp(-x1*x2)\n",
        "def F22(x1,x2,x3):\n",
        "  return -(g1(x1,x2,x3))*x3*m.cos(x2*x3)+m.sin(x2*x3)*m.sin(x2*x3)*x3**2+x1*x2*m.exp(-2*x1*x2)-(g3(x1,x2,x3))*m.exp(-x1*x2)+(g3(x1,x2,x3))*m.exp(-x1*x2)*x1**2 + 26244*x2**2 + 5248.8*x2 + 262.44 \n",
        "def F23(x1,x2,x3):\n",
        "  return x2*x3*m.sin(x2*x3)*m.sin(x2*x3) - (g1(x1,x2,x3))*x3*x2*m.cos(x2*x3) + (g1(x1,x2,x3))*m.sin(x2*x3) + m.cos(x3) * (-162*(x2+0.1)) - 20 *x1 *m.exp(-x1*x2)\n",
        "def F31(x1,x2,x3):\n",
        "  return 3*x2*m.sin(x2*x3) + 2*x1*m.cos(x3) -20*x2*m.exp(-x1*x2)\n",
        "def F32(x1,x2,x3):\n",
        "  return x2*x3*m.sin(x2*x3)*m.sin(x2*x3) + (g1(x1,x2,x3))*m.sin(x2*x3) + (g1(x1,x2,x3))*x2*x3*m.sin(x2*x3) + m.cos(x3)*(-162*(x2+0.1)) - 20*x1*m.exp(-x1*x2)\n",
        "def F33(x1,x2,x3):\n",
        "  return (x2**2)*(m.sin(x2*x3))**2 + (g1(x1,x2,x3))*m.cos(x2*x3)*x2**2 + (m.cos(x3))**2 - g2(x1,x2,x3)*m.sin(x3) + 20*20\n",
        "\n",
        "Hessien = np.array([[1,2,3],[1,2,3],[1,2,3]])\n",
        "X0 = [10,10,10]\n",
        "j=0\n",
        "Hessien[0,0]= F11(X0[0],X0[1],X0[2])\n",
        "Hessien[0,1]= F12(X0[0],X0[1],X0[2])\n",
        "Hessien[0,2]= F13(X0[0],X0[1],X0[2])\n",
        "Hessien[1,0]= F21(X0[0],X0[1],X0[2])\n",
        "Hessien[1,1]= F22(X0[0],X0[1],X0[2])\n",
        "Hessien[1,2]= F23(X0[0],X0[1],X0[2])\n",
        "Hessien[2,0]= F31(X0[0],X0[1],X0[2])\n",
        "Hessien[2,1]= F32(X0[0],X0[1],X0[2])\n",
        "Hessien[2,2]= F33(X0[0],X0[1],X0[2])\n",
        "gradient[0] = F1(X0[0],X0[1],X0[2])\n",
        "gradient[1] = F2(X0[0],X0[1],X0[2])\n",
        "gradient[2] = F3(X0[0],X0[1],X0[2])\n",
        "\n",
        "while Gradient_Magnitude() > Epsilon:\n",
        "  Xnew = X0 - gradient.dot(np.linalg.inv(Hessien))\n",
        "  X0 = Xnew\n",
        "  Hessien[0,0]= F11(X0[0],X0[1],X0[2])\n",
        "  Hessien[0,1]= F12(X0[0],X0[1],X0[2])\n",
        "  Hessien[0,2]= F13(X0[0],X0[1],X0[2])\n",
        "  Hessien[1,0]= F21(X0[0],X0[1],X0[2])\n",
        "  Hessien[1,1]= F22(X0[0],X0[1],X0[2])\n",
        "  Hessien[1,2]= F23(X0[0],X0[1],X0[2])\n",
        "  Hessien[2,0]= F31(X0[0],X0[1],X0[2])\n",
        "  Hessien[2,1]= F32(X0[0],X0[1],X0[2])\n",
        "  Hessien[2,2]= F33(X0[0],X0[1],X0[2])\n",
        "  gradient[0] = F1(X0[0],X0[1],X0[2])\n",
        "  gradient[1] = F2(X0[0],X0[1],X0[2])\n",
        "  gradient[2] = F3(X0[0],X0[1],X0[2])\n",
        "  plt.figure(1)\n",
        "  plt.plot(j,Gradient_Magnitude(),'bo')\n",
        "  plt.grid(True)\n",
        "  j = j+1\n",
        "  if(j == 1000):\n",
        "    break\n",
        "\n",
        "\n",
        "print(\"minimum point:\",Xnew)\n",
        "print(\"local minmum of F(x1,x2,x3)\")\n",
        "print(F(Xnew[0],Xnew[1],Xnew[2]))\n",
        "print(\"Number of iterations:\",j)\n"
      ],
      "execution_count": null,
      "outputs": [
        {
          "output_type": "stream",
          "text": [
            "minimum point: [ 0.53113576  0.00145437 -0.52470779]\n",
            "local minmum of F(x1,x2,x3)\n",
            "0.0046533717528511424\n",
            "Number of iterations: 9\n"
          ],
          "name": "stdout"
        },
        {
          "output_type": "display_data",
          "data": {
            "image/png": "[encoded data removed]",
            "text/plain": [
              "<Figure size 432x288 with 1 Axes>"
            ]
          },
          "metadata": {
            "tags": []
          }
        }
      ]
    },
    {
      "cell_type": "code",
      "metadata": {
        "id": "gM1OyqfhEUhs",
        "outputId": "2dc9deb8-ef34-47a4-a668-ae4d505cfcb0",
        "colab": {
          "base_uri": "https://localhost:8080/",
          "height": 336
        }
      },
      "source": [
        "#////////////////////////////////////////////////////////////////Steepest Descent////////////////////////////////////////////////////////////\n",
        "X0 = [0.01,0,0.01]\n",
        "Xnew = [0,0,0]\n",
        "k=0\n",
        "gradient[0] = F1(X0[0],X0[1],X0[2])\n",
        "gradient[1] = F2(X0[0],X0[1],X0[2])\n",
        "gradient[2] = F3(X0[0],X0[1],X0[2])\n",
        "def Min_Eeta(X0 = []):\n",
        "  def F_of_eeta(eeta):\n",
        "    Xnew = X0 - eeta*gradient\n",
        "    return F(Xnew[0],Xnew[1],Xnew[2])\n",
        "  return minimize(F_of_eeta,0.5)\n",
        "\n",
        "eeta = Min_Eeta(X0).x\n",
        "F(X0[0],X0[1],X0[2])-eeta*gradient\n",
        "\n",
        "while Gradient_Magnitude()> Epsilon:\n",
        "  k = k+1\n",
        "  eeta = Min_Eeta(X0).x\n",
        "  Xnew = X0 - eeta*gradient\n",
        "  X0 = Xnew\n",
        "  gradient[0] = F1(X0[0],X0[1],X0[2])\n",
        "  gradient[1] = F2(X0[0],X0[1],X0[2])\n",
        "  gradient[2] = F3(X0[0],X0[1],X0[2])\n",
        "  plt.figure(1)\n",
        "  plt.plot(k,Gradient_Magnitude(),'bo')\n",
        "  plt.grid(True)\n",
        "  #print(eeta)\n",
        "\n",
        "print(\"minimum point:\",Xnew)\n",
        "print(\"local minmum of F(x1,x2,x3)\")\n",
        "print(F(Xnew[0],Xnew[1],Xnew[2]))\n",
        "print(\"Number of iterations:\",k)\n",
        "\n"
      ],
      "execution_count": null,
      "outputs": [
        {
          "output_type": "stream",
          "text": [
            "minimum point: [ 0.47883536 -0.1985331  -0.52858517]\n",
            "local minmum of F(x1,x2,x3)\n",
            "0.0016826061570613415\n",
            "Number of iterations: 9\n"
          ],
          "name": "stdout"
        },
        {
          "output_type": "display_data",
          "data": {
            "image/png": "[encoded data removed]",
            "text/plain": [
              "<Figure size 432x288 with 1 Axes>"
            ]
          },
          "metadata": {
            "tags": []
          }
        }
      ]
    },
    {
      "cell_type": "code",
      "metadata": {
        "id": "LOmn4YcIR1ah"
      },
      "source": [
        ""
      ],
      "execution_count": null,
      "outputs": []
    }
  ]
}