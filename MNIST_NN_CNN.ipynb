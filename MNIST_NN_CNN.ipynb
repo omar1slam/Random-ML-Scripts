{
  "nbformat": 4,
  "nbformat_minor": 0,
  "metadata": {
    "colab": {
      "name": "Project2_CI.ipynb",
      "provenance": [],
      "collapsed_sections": [],
      "include_colab_link": true
    },
    "kernelspec": {
      "name": "python3",
      "display_name": "Python 3"
    },
    "accelerator": "GPU"
  },
  "cells": [
    {
      "cell_type": "markdown",
      "metadata": {
        "id": "view-in-github",
        "colab_type": "text"
      },
      "source": [
        "<a href=\"https://colab.research.google.com/github/omar1slam/Random-ML-Scripts/blob/master/MNIST_NN_CNN.ipynb\" target=\"_parent\"><img src=\"https://colab.research.google.com/assets/colab-badge.svg\" alt=\"Open In Colab\"/></a>"
      ]
    },
    {
      "cell_type": "code",
      "metadata": {
        "id": "mgEW24RCm_R0",
        "outputId": "bef7f2ca-e593-4489-f0f1-5d91ff5f40fc",
        "colab": {
          "base_uri": "https://localhost:8080/",
          "height": 51
        }
      },
      "source": [
        "try:\n",
        "  # %tensorflow_version only exists in Colab.\n",
        "  %tensorflow_version 2.x\n",
        "except Exception:\n",
        "  pass\n",
        "\n",
        "from __future__ import absolute_import, division, print_function, unicode_literals\n",
        "from tensorflow import keras\n",
        "import tensorflow as tf\n",
        "\n",
        "tf.test.gpu_device_name()"
      ],
      "execution_count": null,
      "outputs": [
        {
          "output_type": "stream",
          "text": [
            "TensorFlow 2.x selected.\n"
          ],
          "name": "stdout"
        },
        {
          "output_type": "execute_result",
          "data": {
            "text/plain": [
              "'/device:GPU:0'"
            ]
          },
          "metadata": {
            "tags": []
          },
          "execution_count": 1
        }
      ]
    },
    {
      "cell_type": "code",
      "metadata": {
        "id": "dQTf1ITrSBu5",
        "outputId": "01196714-344c-43e0-bff0-7ce4df5523df",
        "colab": {
          "base_uri": "https://localhost:8080/",
          "height": 122
        }
      },
      "source": [
        "import numpy as np\n",
        "import random\n",
        "from mlxtend.data import loadlocal_mnist\n",
        "from PIL import Image as Img\n",
        "from google.colab import drive\n",
        "drive.mount(\"/content/drive\", force_remount=True)\n",
        "import matplotlib.pyplot as plt\n",
        "from sklearn import preprocessing\n",
        "\n",
        "\n",
        "Images , Labels = loadlocal_mnist(\n",
        "        images_path='/content/drive/My Drive/train-images.idx3-ubyte', labels_path='/content/drive/My Drive/train-labels.idx1-ubyte')\n"
      ],
      "execution_count": null,
      "outputs": [
        {
          "output_type": "stream",
          "text": [
            "Go to this URL in a browser: https://accounts.google.com/o/oauth2/auth?client_id=947318989803-6bn6qk8qdgf4n4g3pfee6491hc0brc4i.apps.googleusercontent.com&redirect_uri=urn%3aietf%3awg%3aoauth%3a2.0%3aoob&response_type=code&scope=email%20https%3a%2f%2fwww.googleapis.com%2fauth%2fdocs.test%20https%3a%2f%2fwww.googleapis.com%2fauth%2fdrive%20https%3a%2f%2fwww.googleapis.com%2fauth%2fdrive.photos.readonly%20https%3a%2f%2fwww.googleapis.com%2fauth%2fpeopleapi.readonly\n",
            "\n",
            "Enter your authorization code:\n",
            "··········\n",
            "Mounted at /content/drive\n"
          ],
          "name": "stdout"
        }
      ]
    },
    {
      "cell_type": "code",
      "metadata": {
        "id": "BV2qDAjCpEbU",
        "outputId": "306d0acc-78e5-4459-fe6d-f656f4c0e156",
        "colab": {
          "base_uri": "https://localhost:8080/",
          "height": 68
        }
      },
      "source": [
        "normalized_X = preprocessing.normalize(Images)\n",
        "print(Labels.shape)\n",
        "data = normalized_X.reshape(60000, 28, 28, 1)\n",
        "Labels = np.reshape(Labels, (60000, 1))\n",
        "print(np.shape(data))\n",
        "image = np.asarray(data[7453])\n",
        "#plt.imshow(image, cmap='gray')\n",
        "print(Labels.shape)"
      ],
      "execution_count": null,
      "outputs": [
        {
          "output_type": "stream",
          "text": [
            "(60000,)\n",
            "(60000, 28, 28, 1)\n",
            "(60000, 1)\n"
          ],
          "name": "stdout"
        }
      ]
    },
    {
      "cell_type": "code",
      "metadata": {
        "id": "gcBPW7weOrBw",
        "outputId": "e940585c-cadb-4428-bc28-37b6269dd1e2",
        "colab": {
          "base_uri": "https://localhost:8080/",
          "height": 34
        }
      },
      "source": [
        "X_train = data[:50000]\n",
        "X_test = data[50000:60000]\n",
        "Y_train = Labels[:50000]\n",
        "Y_test = Labels[50000:60000]\n",
        "print(X_train.shape)"
      ],
      "execution_count": null,
      "outputs": [
        {
          "output_type": "stream",
          "text": [
            "(50000, 28, 28, 1)\n"
          ],
          "name": "stdout"
        }
      ]
    },
    {
      "cell_type": "code",
      "metadata": {
        "id": "jqq-y5FCghos"
      },
      "source": [
        "def relu(Z):\n",
        "    return max(0, Z)"
      ],
      "execution_count": null,
      "outputs": []
    },
    {
      "cell_type": "code",
      "metadata": {
        "id": "DwyFCqytgvGs"
      },
      "source": [
        "def sigmoid(Z):\n",
        "    return np.exp(Z)/(1 + np.exp(Z))"
      ],
      "execution_count": null,
      "outputs": []
    },
    {
      "cell_type": "code",
      "metadata": {
        "id": "RmrLp5ayhKWK"
      },
      "source": [
        "def relu_derivative(Z):\n",
        "    if Z > 0:\n",
        "        return 1\n",
        "    else:\n",
        "        return 0"
      ],
      "execution_count": null,
      "outputs": []
    },
    {
      "cell_type": "code",
      "metadata": {
        "id": "1p2bayh-hNos"
      },
      "source": [
        "def sigmoid_derivative(Z):\n",
        "    return sigmoid(Z) * (1 - sigmoid(Z))\n"
      ],
      "execution_count": null,
      "outputs": []
    },
    {
      "cell_type": "code",
      "metadata": {
        "id": "Kw19WpDroPYV"
      },
      "source": [
        "def generate_dimensions(layers, r):\n",
        "\n",
        "  dims = list()\n",
        "\n",
        "  for l in range(layers):\n",
        "    dims.append(r)\n",
        "    \n",
        "  return dims"
      ],
      "execution_count": null,
      "outputs": []
    },
    {
      "cell_type": "code",
      "metadata": {
        "id": "UteoZU6HBYHz"
      },
      "source": [
        "def initialize_parameters(n_nodes):\n",
        "\n",
        "    n_layers = len(n_nodes)\n",
        "    parameters = dict()\n",
        "    np.random.seed(1)\n",
        "\n",
        "    for l in range(1, n_layers):\n",
        "        parameters['W' + str(l)] =  random.uniform(-0.1, 0.1) #np.random.randn(n_nodes[l], n_nodes[l-1])*0.01\n",
        "        parameters['b' + str(l)] =  random.uniform(-0.1, 0.1) #np.random.randn(n_nodes[l], 1)*0.01\n",
        "\n",
        "    return parameters"
      ],
      "execution_count": null,
      "outputs": []
    },
    {
      "cell_type": "code",
      "metadata": {
        "id": "FECbzrHUhNtc"
      },
      "source": [
        "def forward_propagation(A_prev, W, b, activation_function):\n",
        "\n",
        "    Z = np.dot(W, A_prev) + b\n",
        "    if activation_function == 'relu':\n",
        "        A_current = relu(Z)\n",
        "    if activation_function == 'sigmoid':\n",
        "        A_current = sigmoid(Z)\n",
        "    storage = (A_prev, Z, W, activation_function)\n",
        "\n",
        "    return A_current, storage"
      ],
      "execution_count": null,
      "outputs": []
    },
    {
      "cell_type": "code",
      "metadata": {
        "id": "uz3M6nNLhN1y"
      },
      "source": [
        "def forward_model(X, n_nodes):\n",
        "\n",
        "    parameters = initialize_parameters(n_nodes)\n",
        "    storage = list()\n",
        "    n_layers = len(parameters) // 2\n",
        "    A = X\n",
        "\n",
        "    for l in range(1, n_layers):\n",
        "        A, values = forward_propagation(A, parameters['W' + str(l)], parameters['b' + str(l)], 'relu')\n",
        "        storage.append(values)\n",
        "\n",
        "    A, values = forward_propagation(A, parameters['W' + str(n_layers)], parameters['b' + str(n_layers)], 'sigmoid')\n",
        "    storage.append(values)\n",
        "\n",
        "    return A, storage"
      ],
      "execution_count": null,
      "outputs": []
    },
    {
      "cell_type": "code",
      "metadata": {
        "id": "OzPB2Bk9hZF7"
      },
      "source": [
        "def compute_cost(Y, A):\n",
        "\n",
        "    m = Y.shape[1]\n",
        "    cost = 1/m * np.sum((1/2) * (Y-A)**2)\n",
        "    cost = np.squeeze(cost) \n",
        "    \n",
        "    return cost"
      ],
      "execution_count": null,
      "outputs": []
    },
    {
      "cell_type": "code",
      "metadata": {
        "id": "pt3Islk-hZPo"
      },
      "source": [
        "def back_propagation(dA, storage):\n",
        "\n",
        "    A, Z, W, activation_function = storage\n",
        "    m = A.shape[1]\n",
        "\n",
        "    if activation_function == 'relu':\n",
        "        dZ = relu_derivative(Z) * dA\n",
        "    if activation_function == 'sigmoid':\n",
        "        dZ = sigmoid_derivative(Z) * dA\n",
        "\n",
        "    dA_prev = np.dot(W, dZ)\n",
        "    dW = 1/m * np.dot(A.T, dZ)\n",
        "    db = 1/m * np.sum(dZ, axis=1, keepdims=True)\n",
        "\n",
        "    return dA_prev, dW, db"
      ],
      "execution_count": null,
      "outputs": []
    },
    {
      "cell_type": "code",
      "metadata": {
        "id": "YeYSCsi1hZht"
      },
      "source": [
        "def backward_model(Y, AL, storage):\n",
        "\n",
        "    n_layers = len(storage) // 4\n",
        "    gradients = dict()\n",
        "    dA = Y - AL\n",
        "\n",
        "    for l in range(n_layers, 0):\n",
        "        dA_prev, dW, db = back_propagation(dA, storage[l])\n",
        "        dA = dA_prev\n",
        "        gradients['dW' + str(l)] = dW\n",
        "        gradients['db' + str(l)] = db\n",
        "\n",
        "    return gradients"
      ],
      "execution_count": null,
      "outputs": []
    },
    {
      "cell_type": "code",
      "metadata": {
        "id": "-M3iaEhqmJbb"
      },
      "source": [
        "def update_parameters(parameters, grads, learning_rate):\n",
        "  \n",
        "  n_layers = len(parameters) // 2\n",
        "\n",
        "  for l in range(n_layers):\n",
        "    parameters['W' + str(l)] =  parameters['W' + str(l)] - learning_rate * grads['dW' + str(l)]\n",
        "    parameters['b' + str(l)] =  parameters['W' + str(l)] - learning_rate * grads['db' + str(l)]\n",
        "\n",
        "    return parameters\n"
      ],
      "execution_count": null,
      "outputs": []
    },
    {
      "cell_type": "code",
      "metadata": {
        "id": "80shbB8sCZqG"
      },
      "source": [
        "def model(X, Y, n_nodes, learning_rate = 0.0075, num_iterations = 3000):\n",
        "\n",
        "  parameters = initialize_parameters(n_nodes)\n",
        "  for i in range(num_iterations):\n",
        "      A, storage = forward_model(X, n_nodes)\n",
        "      cost = compute_cost(Y, A)\n",
        "      grads = backward_model(Y, A, storage)\n",
        "      parameters = update_parameters(parameters, grads, learning_rate)\n",
        "    \n",
        "  return parameters\n"
      ],
      "execution_count": null,
      "outputs": []
    },
    {
      "cell_type": "markdown",
      "metadata": {
        "id": "fsqSqdJurHtP"
      },
      "source": [
        "**CNN**"
      ]
    },
    {
      "cell_type": "code",
      "metadata": {
        "id": "oYM70n7i44ct"
      },
      "source": [
        "keras.backend.clear_session()"
      ],
      "execution_count": null,
      "outputs": []
    },
    {
      "cell_type": "code",
      "metadata": {
        "id": "313KafcDrHS2",
        "outputId": "56524372-7a9a-43c2-a21a-1e365650e673",
        "colab": {
          "base_uri": "https://localhost:8080/",
          "height": 231
        }
      },
      "source": [
        "with tf.device('/device:GPU:0'):\n",
        "  for r in range(10, 51):\n",
        "    print(r)\n",
        "    model = keras.Sequential([\n",
        "    keras.layers.Conv2D(r, (3, 3), strides=(1, 1), input_shape=(28, 28, 1)),\n",
        "           keras.layers.BatchNormalization(axis = 3),\n",
        "           keras.layers.Activation('relu'),\n",
        "           keras.layers.MaxPooling2D((2,2)),\n",
        "           keras.layers.Flatten(),\n",
        "           keras.layers.Dense(10, activation='softmax'),               \n",
        "           ])\n",
        "    model.compile(optimizer = 'adam', loss = 'sparse_categorical_crossentropy', metrics=['accuracy'])\n",
        "    history = model.fit(x = X_train, y = Y_train, epochs = 20, batch_size = 64, verbose = 1)\n",
        "    preds = model.evaluate(x = X_test, y = Y_test)\n",
        "    if not r == 50:\n",
        "      plt.plot(r, history.history['loss'][-1], 'bo')\n",
        "      plt.plot(r, preds[0], 'go')\n",
        "  plt.plot(r, history.history['loss'][-1], 'bo', label='training')\n",
        "  plt.plot(r, preds[0], 'go', label='testing')\n",
        "  plt.legend()\n",
        "  plt.grid(True)\n",
        "  plt.title(\"Objective Function\")"
      ],
      "execution_count": null,
      "outputs": [
        {
          "output_type": "error",
          "ename": "NameError",
          "evalue": "ignored",
          "traceback": [
            "\u001b[0;31m---------------------------------------------------------------------------\u001b[0m",
            "\u001b[0;31mNameError\u001b[0m                                 Traceback (most recent call last)",
            "\u001b[0;32m<ipython-input-1-29c1e6713f6e>\u001b[0m in \u001b[0;36m<module>\u001b[0;34m()\u001b[0m\n\u001b[0;32m----> 1\u001b[0;31m \u001b[0;32mwith\u001b[0m \u001b[0mtf\u001b[0m\u001b[0;34m.\u001b[0m\u001b[0mdevice\u001b[0m\u001b[0;34m(\u001b[0m\u001b[0;34m'/device:GPU:0'\u001b[0m\u001b[0;34m)\u001b[0m\u001b[0;34m:\u001b[0m\u001b[0;34m\u001b[0m\u001b[0;34m\u001b[0m\u001b[0m\n\u001b[0m\u001b[1;32m      2\u001b[0m   \u001b[0;32mfor\u001b[0m \u001b[0mr\u001b[0m \u001b[0;32min\u001b[0m \u001b[0mrange\u001b[0m\u001b[0;34m(\u001b[0m\u001b[0;36m10\u001b[0m\u001b[0;34m,\u001b[0m \u001b[0;36m51\u001b[0m\u001b[0;34m)\u001b[0m\u001b[0;34m:\u001b[0m\u001b[0;34m\u001b[0m\u001b[0;34m\u001b[0m\u001b[0m\n\u001b[1;32m      3\u001b[0m     \u001b[0mprint\u001b[0m\u001b[0;34m(\u001b[0m\u001b[0mr\u001b[0m\u001b[0;34m)\u001b[0m\u001b[0;34m\u001b[0m\u001b[0;34m\u001b[0m\u001b[0m\n\u001b[1;32m      4\u001b[0m     model = keras.Sequential([\n\u001b[1;32m      5\u001b[0m     \u001b[0mkeras\u001b[0m\u001b[0;34m.\u001b[0m\u001b[0mlayers\u001b[0m\u001b[0;34m.\u001b[0m\u001b[0mConv2D\u001b[0m\u001b[0;34m(\u001b[0m\u001b[0mr\u001b[0m\u001b[0;34m,\u001b[0m \u001b[0;34m(\u001b[0m\u001b[0;36m3\u001b[0m\u001b[0;34m,\u001b[0m \u001b[0;36m3\u001b[0m\u001b[0;34m)\u001b[0m\u001b[0;34m,\u001b[0m \u001b[0mstrides\u001b[0m\u001b[0;34m=\u001b[0m\u001b[0;34m(\u001b[0m\u001b[0;36m1\u001b[0m\u001b[0;34m,\u001b[0m \u001b[0;36m1\u001b[0m\u001b[0;34m)\u001b[0m\u001b[0;34m,\u001b[0m \u001b[0minput_shape\u001b[0m\u001b[0;34m=\u001b[0m\u001b[0;34m(\u001b[0m\u001b[0;36m28\u001b[0m\u001b[0;34m,\u001b[0m \u001b[0;36m28\u001b[0m\u001b[0;34m,\u001b[0m \u001b[0;36m1\u001b[0m\u001b[0;34m)\u001b[0m\u001b[0;34m)\u001b[0m\u001b[0;34m,\u001b[0m\u001b[0;34m\u001b[0m\u001b[0;34m\u001b[0m\u001b[0m\n",
            "\u001b[0;31mNameError\u001b[0m: name 'tf' is not defined"
          ]
        }
      ]
    },
    {
      "cell_type": "code",
      "metadata": {
        "id": "1zpkfSC_6UYD"
      },
      "source": [
        "keras.backend.clear_session()"
      ],
      "execution_count": null,
      "outputs": []
    },
    {
      "cell_type": "code",
      "metadata": {
        "id": "La99CXva6AgO"
      },
      "source": [
        "for r in range(10, 51):\n",
        "  print(r)\n",
        "  model = keras.Sequential([\n",
        "    keras.layers.Conv2D(r, (3, 3), strides=(1, 1), input_shape=(28, 28, 1)),\n",
        "           keras.layers.BatchNormalization(axis = 3),\n",
        "           keras.layers.Activation('relu'),\n",
        "           keras.layers.MaxPooling2D((2,2)),\n",
        "           keras.layers.Conv2D(r, (3, 3), strides=(2, 2)),\n",
        "           keras.layers.BatchNormalization(axis = 3),\n",
        "           keras.layers.Activation('relu'),\n",
        "           keras.layers.MaxPooling2D((2,2)),\n",
        "           keras.layers.Flatten(),\n",
        "           keras.layers.Dense(10, activation='softmax'),               \n",
        "           ])\n",
        "  model.compile(optimizer = 'adam', loss = 'sparse_categorical_crossentropy', metrics=['accuracy'])\n",
        "  history = model.fit(x = X_train, y = Y_train, epochs = 20, batch_size = 64, verbose = 0)\n",
        "  preds = model.evaluate(x = X_test, y = Y_test)\n",
        "  if not r == 50:\n",
        "    plt.plot(r, history.history['loss'][-1], 'bo')\n",
        "    plt.plot(r, preds[0], 'go')\n",
        "plt.plot(r, history.history['loss'][-1], 'bo', label='training')\n",
        "plt.plot(r, preds[0], 'go', label='testing')\n",
        "plt.legend()\n",
        "plt.grid(True)\n",
        "plt.title(\"Objective Function\")"
      ],
      "execution_count": null,
      "outputs": []
    },
    {
      "cell_type": "code",
      "metadata": {
        "id": "9rpyuPq86VrO"
      },
      "source": [
        "keras.backend.clear_session()"
      ],
      "execution_count": null,
      "outputs": []
    },
    {
      "cell_type": "code",
      "metadata": {
        "id": "SL32gNFq6Gld"
      },
      "source": [
        "for r in range(10, 51):\n",
        "  print(r)\n",
        "  model = keras.Sequential([\n",
        "    keras.layers.Conv2D(r, (3, 3), strides=(1, 1), input_shape=(28, 28, 1)),\n",
        "           keras.layers.BatchNormalization(axis = 3),\n",
        "           keras.layers.Activation('relu'),\n",
        "           keras.layers.Conv2D(r, (3, 3), strides=(2, 2)),\n",
        "           keras.layers.BatchNormalization(axis = 3),\n",
        "           keras.layers.Activation('relu'),\n",
        "           keras.layers.MaxPooling2D((2,2)),\n",
        "           keras.layers.Conv2D(r, (3, 3), strides=(2, 2)),\n",
        "           keras.layers.BatchNormalization(axis = 3),\n",
        "           keras.layers.Activation('relu'),\n",
        "           keras.layers.MaxPooling2D((2,2)),\n",
        "           keras.layers.Flatten(),\n",
        "           keras.layers.Dense(10, activation='softmax'),               \n",
        "           ])\n",
        "  model.compile(optimizer = 'adam', loss = 'sparse_categorical_crossentropy', metrics=['accuracy'])\n",
        "  history = model.fit(x = X_train, y = Y_train, epochs = 20, batch_size = 64, verbose = 0)\n",
        "  preds = model.evaluate(x = X_test, y = Y_test)\n",
        "  if not r == 50:\n",
        "    plt.plot(r, history.history['loss'][-1], 'bo')\n",
        "    plt.plot(r, preds[0], 'go')\n",
        "plt.plot(r, history.history['loss'][-1], 'bo', label='training')\n",
        "plt.plot(r, preds[0], 'go', label='testing')\n",
        "plt.legend()\n",
        "plt.grid(True)\n",
        "plt.title(\"Objective Function\")"
      ],
      "execution_count": null,
      "outputs": []
    },
    {
      "cell_type": "code",
      "metadata": {
        "id": "rn8sG6nY8CBJ"
      },
      "source": [
        "  model = keras.Sequential([\n",
        "    keras.layers.Conv2D(16, (3, 3), strides=(1, 1), input_shape=(28, 28, 1)),\n",
        "           keras.layers.BatchNormalization(axis = 3),\n",
        "           keras.layers.Activation('relu'),\n",
        "           keras.layers.Conv2D(32, (3, 3), strides=(2, 2)),\n",
        "           keras.layers.BatchNormalization(axis = 3),\n",
        "           keras.layers.Activation('relu'),\n",
        "           keras.layers.MaxPooling2D((2,2)),\n",
        "           keras.layers.Conv2D(64, (3, 3), strides=(2, 2)),\n",
        "           keras.layers.BatchNormalization(axis = 3),\n",
        "           keras.layers.Activation('relu'),\n",
        "           keras.layers.MaxPooling2D((2,2)),\n",
        "           keras.layers.Flatten(),\n",
        "           keras.layers.Dense(10, activation='softmax'),               \n",
        "           ])"
      ],
      "execution_count": null,
      "outputs": []
    },
    {
      "cell_type": "code",
      "metadata": {
        "id": "1HLZL5M78GSE"
      },
      "source": [
        "model.compile(optimizer = 'sgd', loss = 'sparse_categorical_crossentropy', metrics=['accuracy'])"
      ],
      "execution_count": null,
      "outputs": []
    },
    {
      "cell_type": "code",
      "metadata": {
        "id": "SF_SFV1S8JRc"
      },
      "source": [
        "preds = model.evaluate(x = X_test, y = Y_test)"
      ],
      "execution_count": null,
      "outputs": []
    },
    {
      "cell_type": "code",
      "metadata": {
        "id": "wL-yD5Z6mmc_"
      },
      "source": [
        "print(np.argmax(model.predict(data[9000].reshape(1, 28, 28, 1))))\n",
        "data = data.reshape(60000, 28, 28)\n",
        "image = np.asarray(data[9000])\n",
        "plt.imshow(image, cmap='gray')"
      ],
      "execution_count": null,
      "outputs": []
    },
    {
      "cell_type": "markdown",
      "metadata": {
        "id": "CX5cQs9taA0Z"
      },
      "source": [
        "**NN**"
      ]
    },
    {
      "cell_type": "code",
      "metadata": {
        "id": "ZYIXW9UlaB0e"
      },
      "source": [
        "X_train_nn = X_train.reshape((X_train.shape[0], -1))\n",
        "X_test_nn =  X_test.reshape((X_test.shape[0], -1))\n",
        "Y_train_nn =  Y_train.reshape((Y_train.shape[0], -1))\n",
        "Y_test_nn =  Y_test.reshape((Y_test.shape[0], -1))\n",
        "print(X_train_nn.shape)"
      ],
      "execution_count": null,
      "outputs": []
    },
    {
      "cell_type": "code",
      "metadata": {
        "id": "OHNYRE22n2mb"
      },
      "source": [
        "keras.backend.clear_session()"
      ],
      "execution_count": null,
      "outputs": []
    },
    {
      "cell_type": "code",
      "metadata": {
        "id": "Lfav7jRtdNhq"
      },
      "source": [
        "for r in range(10, 51):\n",
        "  print(r)\n",
        "  model_nn = keras.Sequential([\n",
        "    keras.layers.Dense(r, input_shape=(784,), activation='relu'),\n",
        "    keras.layers.Dense(10, activation='softmax'),               \n",
        "    ])\n",
        "  model_nn.compile(optimizer = 'adam', loss = 'sparse_categorical_crossentropy', metrics=['accuracy'])\n",
        "  history = model_nn.fit(x = X_train_nn, y = Y_train_nn, epochs = 20, batch_size = 16, verbose=0)\n",
        "  preds = model_nn.evaluate(x = X_test_nn, y = Y_test_nn)\n",
        "  if not r == 50:\n",
        "    plt.plot(r, history.history['loss'][-1], 'bo')\n",
        "    plt.plot(r, preds[0], 'go')\n",
        "plt.plot(r, history.history['loss'][-1], 'bo', label='training')\n",
        "plt.plot(r, preds[0], 'go', label='testing')\n",
        "plt.legend()\n",
        "plt.grid(True)\n",
        "plt.title(\"Objective Function\")"
      ],
      "execution_count": null,
      "outputs": []
    },
    {
      "cell_type": "code",
      "metadata": {
        "id": "hQsArUr1QfZU"
      },
      "source": [
        "keras.backend.clear_session()"
      ],
      "execution_count": null,
      "outputs": []
    },
    {
      "cell_type": "code",
      "metadata": {
        "id": "BawCkOr6QXbo"
      },
      "source": [
        "for r in range(10, 51):\n",
        "  print(r)\n",
        "  model_nn = keras.Sequential([\n",
        "    keras.layers.Dense(r, input_shape=(784,), activation='relu'),\n",
        "    keras.layers.Dense(r, activation='relu'),\n",
        "    keras.layers.Dense(10, activation='softmax'),               \n",
        "    ])\n",
        "  model_nn.compile(optimizer = 'adam', loss = 'sparse_categorical_crossentropy', metrics=['accuracy'])\n",
        "  history = model_nn.fit(x = X_train_nn, y = Y_train_nn, epochs = 20, batch_size = 16, verbose=0)\n",
        "  preds = model_nn.evaluate(x = X_test_nn, y = Y_test_nn)\n",
        "  if not r == 50:\n",
        "    plt.plot(r, history.history['loss'][-1], 'bo')\n",
        "    plt.plot(r, preds[0], 'go')\n",
        "plt.plot(r, history.history['loss'][-1], 'bo', label='training')\n",
        "plt.plot(r, preds[0], 'go', label='testing')\n",
        "plt.legend()\n",
        "plt.grid(True)\n",
        "plt.title(\"Objective Function\")"
      ],
      "execution_count": null,
      "outputs": []
    },
    {
      "cell_type": "code",
      "metadata": {
        "id": "znelvXZ5Qh2v"
      },
      "source": [
        "keras.backend.clear_session()"
      ],
      "execution_count": null,
      "outputs": []
    },
    {
      "cell_type": "code",
      "metadata": {
        "id": "IwjBEgeiQaA8"
      },
      "source": [
        "for r in range(10, 51):\n",
        "  print(r)\n",
        "  model_nn = keras.Sequential([\n",
        "    keras.layers.Dense(r, input_shape=(784,), activation='relu'),\n",
        "    keras.layers.Dense(r, activation='relu'),\n",
        "    keras.layers.Dense(r, activation='relu'),\n",
        "    keras.layers.Dense(10, activation='softmax'),               \n",
        "    ])\n",
        "  model_nn.compile(optimizer = 'adam', loss = 'sparse_categorical_crossentropy', metrics=['accuracy'])\n",
        "  history = model_nn.fit(x = X_train_nn, y = Y_train_nn, epochs = 20, batch_size = 16, verbose=0)\n",
        "  preds = model_nn.evaluate(x = X_test_nn, y = Y_test_nn)\n",
        "  if not r == 50:\n",
        "    plt.plot(r, history.history['loss'][-1], 'bo')\n",
        "    plt.plot(r, preds[0], 'go')\n",
        "plt.plot(r, history.history['loss'][-1], 'bo', label='training')\n",
        "plt.plot(r, preds[0], 'go', label='testing')\n",
        "plt.legend()\n",
        "plt.grid(True)\n",
        "plt.title(\"Objective Function\")"
      ],
      "execution_count": null,
      "outputs": []
    },
    {
      "cell_type": "code",
      "metadata": {
        "id": "X661DPLjeU5Y"
      },
      "source": [
        "data = data.reshape(60000, 28, 28)\n",
        "#print(data[9000].reshape(784,).shape)\n",
        "#print(np.argmax(model_nn.predict(data[9000].reshape(1, 784))))\n",
        "image = np.asarray(data[7])\n",
        "plt.imshow(image, cmap='gray')"
      ],
      "execution_count": null,
      "outputs": []
    }
  ]
}